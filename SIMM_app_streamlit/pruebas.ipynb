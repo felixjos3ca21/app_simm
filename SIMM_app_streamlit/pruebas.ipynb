{
 "cells": [
  {
   "cell_type": "code",
   "execution_count": 1,
   "id": "24d1192d",
   "metadata": {},
   "outputs": [],
   "source": [
    "import pandas as pd"
   ]
  },
  {
   "cell_type": "code",
   "execution_count": 52,
   "id": "85064b8f",
   "metadata": {},
   "outputs": [],
   "source": [
    "# Ruta del archivo\n",
    "ruta = r\"C:\\Users\\1513873\\ANDES BPO S.A.S\\Johan Felipe JG. Gómez Arango - SIMM\\BASES\\Medios Virtuales\\SMS ENVIADOS EN ENERO\\CONSOLIDADO SMS ENERO.xlsx\"\n",
    "\n",
    "# Leer todas las hojas\n",
    "hojas = pd.read_excel(ruta, sheet_name=None)\n",
    "\n",
    "# Concatenar todas las hojas en un solo DataFrame\n",
    "df = pd.concat(hojas.values(), ignore_index=True)"
   ]
  },
  {
   "cell_type": "code",
   "execution_count": 54,
   "id": "cea6050b",
   "metadata": {},
   "outputs": [],
   "source": [
    "df['TIPO DOCUMENTO'] = df['TIPO DOCUMENTO'].str.upper()"
   ]
  },
  {
   "cell_type": "code",
   "execution_count": 53,
   "id": "b51095f0",
   "metadata": {},
   "outputs": [],
   "source": [
    "df = df.rename(columns={\n",
    "    'DESC_DOCUMENTO':'TIPO DOCUMENTO',\n",
    "    'NRO_COMPARENDO':'NRO COMPARENDO',\n",
    "    'ID_USUARIO':'DOCUMENTO',\n",
    "    'NOMBRES':'NOMBRE',\n",
    "    'CELULAR 1':'TELEFONO',\n",
    "    'SMS':'TEXTO',\n",
    "    'NOMBRE':'BASE',\n",
    "    'FECHA':'FECHA ENVIO',\n",
    "    'RESULTADO SMS':'RESULTADO SMS'\n",
    "})"
   ]
  },
  {
   "cell_type": "code",
   "execution_count": 55,
   "id": "9ed970b6",
   "metadata": {},
   "outputs": [
    {
     "name": "stdout",
     "output_type": "stream",
     "text": [
      "<class 'pandas.core.frame.DataFrame'>\n",
      "RangeIndex: 1484484 entries, 0 to 1484483\n",
      "Data columns (total 9 columns):\n",
      " #   Column          Non-Null Count    Dtype         \n",
      "---  ------          --------------    -----         \n",
      " 0   TIPO DOCUMENTO  1351744 non-null  object        \n",
      " 1   NRO COMPARENDO  1445649 non-null  object        \n",
      " 2   DOCUMENTO       1484484 non-null  object        \n",
      " 3   NOMBRE          1197544 non-null  object        \n",
      " 4   TELEFONO        1484484 non-null  object        \n",
      " 5   SMS             1484484 non-null  object        \n",
      " 6   BASE            1484484 non-null  object        \n",
      " 7   FECHA           1484484 non-null  datetime64[ns]\n",
      " 8   RESULTADO SMS   1460237 non-null  object        \n",
      "dtypes: datetime64[ns](1), object(8)\n",
      "memory usage: 101.9+ MB\n"
     ]
    }
   ],
   "source": [
    "df.info()"
   ]
  },
  {
   "cell_type": "code",
   "execution_count": 56,
   "id": "85f1993e",
   "metadata": {},
   "outputs": [
    {
     "data": {
      "text/plain": [
       "TIPO DOCUMENTO\n",
       "CÉDULA CIUDADANÍA              900107\n",
       "CEDULA CIUDADANIA              151106\n",
       "CÉDULA CIUDADANÍA              127355\n",
       "CÉDULA DE CIUDADANÍA           100468\n",
       "CC                              34719\n",
       "NIT                              8983\n",
       "PASAPORTE                        6380\n",
       "CEDULA DE CIUDADANIA             6348\n",
       "TARJETA IDENTIDAD                3255\n",
       "CÉDULA EXTRANJERIA               3141\n",
       "PERMISO PROTECCIÓN TEMP.         2300\n",
       "PASAPORTE                        1345\n",
       "CÉDULA VENEZOLANA                1072\n",
       "CÉDULA VENEZOLANA                1006\n",
       "PERMISO PROTECCIÓN TEMP.          820\n",
       "PERMISO PROTECCION TEMPORAL       730\n",
       "PPT                               460\n",
       "CÉDULA EXTRANJERIA                458\n",
       "PAS                               438\n",
       "CÉDULA EXTRANJERÍA                246\n",
       "TARJETA IDENTIDAD                 240\n",
       "CV                                206\n",
       "CE                                172\n",
       "TI                                136\n",
       "PASAP                              73\n",
       "REGISTRO CIVIL                     67\n",
       "NIT                                29\n",
       "CEDULA EXTRANJERIA                 22\n",
       "CEDULA VENEZOLANA                  18\n",
       "REGISTRO CIVIL                     13\n",
       "CARNÉT DIPLOMÁTICO                 11\n",
       "CEDULA ECUADOR                      6\n",
       "CARNÉT DIPLOMÁTICO                  3\n",
       "CARNET DIPLOMÁTICO                  3\n",
       "CEDULA ECUADOR                      2\n",
       "NN                                  2\n",
       "C-ECUA                              2\n",
       "CÉDULA ECUATORIANA                  1\n",
       "SIN DOCUMENTO                       1\n",
       "Name: count, dtype: int64"
      ]
     },
     "execution_count": 56,
     "metadata": {},
     "output_type": "execute_result"
    }
   ],
   "source": [
    "cuenta = df['TIPO DOCUMENTO'].value_counts()\n",
    "\n",
    "cuenta"
   ]
  },
  {
   "cell_type": "code",
   "execution_count": 57,
   "id": "ba427044",
   "metadata": {},
   "outputs": [
    {
     "name": "stdout",
     "output_type": "stream",
     "text": [
      "la columna: TIPO DOCUMENTO tiene un londitud maxima de : 27\n",
      "la columna: NRO COMPARENDO tiene un londitud maxima de : 45\n",
      "la columna: DOCUMENTO tiene un londitud maxima de : 20\n",
      "la columna: NOMBRE tiene un londitud maxima de : 300\n",
      "la columna: TELEFONO tiene un londitud maxima de : 15\n",
      "la columna: SMS  tiene un londitud maxima de : 218\n",
      "la columna: BASE tiene un londitud maxima de : 206\n",
      "la columna: FECHA  tiene un londitud maxima de : 10\n",
      "la columna: RESULTADO SMS tiene un londitud maxima de : 22\n"
     ]
    }
   ],
   "source": [
    "columnas = df.columns\n",
    "\n",
    "for i in columnas:\n",
    "    cuenta = df[i].astype(str).map(len).max()\n",
    "    print(f'la columna: {i} tiene un londitud maxima de : {cuenta}')\n"
   ]
  },
  {
   "cell_type": "code",
   "execution_count": null,
   "id": "1a1bc10b",
   "metadata": {},
   "outputs": [],
   "source": []
  }
 ],
 "metadata": {
  "kernelspec": {
   "display_name": "venv",
   "language": "python",
   "name": "python3"
  },
  "language_info": {
   "codemirror_mode": {
    "name": "ipython",
    "version": 3
   },
   "file_extension": ".py",
   "mimetype": "text/x-python",
   "name": "python",
   "nbconvert_exporter": "python",
   "pygments_lexer": "ipython3",
   "version": "3.12.4"
  }
 },
 "nbformat": 4,
 "nbformat_minor": 5
}
